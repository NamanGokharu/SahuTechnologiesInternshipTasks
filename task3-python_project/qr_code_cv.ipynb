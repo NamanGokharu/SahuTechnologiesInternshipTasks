{
 "cells": [
  {
   "cell_type": "markdown",
   "id": "122d0474",
   "metadata": {},
   "source": [
    "<h1 style=\"color:green;text-align:center\"><b>QR Code Scanner using CV</b></h1>"
   ]
  },
  {
   "cell_type": "code",
   "execution_count": 7,
   "id": "a73373b8",
   "metadata": {},
   "outputs": [],
   "source": [
    "import cv2\n",
    "import pyzbar\n",
    "from pyzbar.pyzbar import decode"
   ]
  },
  {
   "cell_type": "code",
   "execution_count": 8,
   "id": "474d2549",
   "metadata": {},
   "outputs": [
    {
     "name": "stdout",
     "output_type": "stream",
     "text": [
      "Enter \n",
      "1.For importing image\n",
      "2.For Video Capture of Image\n",
      "1\n"
     ]
    }
   ],
   "source": [
    "#import or videocapture option\n",
    "print(\"Enter \\n1.For importing image\\n2.For Video Capture of Image\")\n",
    "choice=int(input())"
   ]
  },
  {
   "cell_type": "code",
   "execution_count": 9,
   "id": "de2cd2d5",
   "metadata": {},
   "outputs": [],
   "source": [
    "#initialising recieved_data from Barcode Scanner to None\n",
    "rec_data=None"
   ]
  },
  {
   "cell_type": "code",
   "execution_count": 10,
   "id": "5e587ada",
   "metadata": {},
   "outputs": [
    {
     "name": "stdout",
     "output_type": "stream",
     "text": [
      "Enter path of image located  :  E:\\Sahu Teechnologies Tasks\\wa_qr.jpeg\n",
      "https://wa.me/message/XQQORXXVRDBZP1?src=qr\n"
     ]
    }
   ],
   "source": [
    "if(choice==1):\n",
    "    path=input(\"Enter path of image located  :  \")\n",
    "    img_loaded=cv2.imread(path)\n",
    "    if(len(img_loaded)>0):\n",
    "        decoded_data=decode(img_loaded)\n",
    "        #print(decoded_data)\n",
    "        str_data=decoded_data[0][0].decode('utf-8')\n",
    "        rec_data=str_data\n",
    "        print(rec_data)\n",
    "elif(choice==2):\n",
    "    cptre=cv2.VideoCapture(0)\n",
    "    while(True):\n",
    "        status,frame=cptre.read()\n",
    "        dec_data=decode(frame)\n",
    "        if(len(dec_data)!=0):\n",
    "            cur_data=dec_data[0][0].decode('utf-8')\n",
    "            if(cur_data!=rec_data):\n",
    "                rec_data=cur_data\n",
    "                print(rec_data)\n",
    "        cv2.imshow(\"QR Code Scanner\",frame)\n",
    "        key=cv2.waitKey(1)\n",
    "        if(key==ord(\"q\")):\n",
    "            break\n",
    "        \n",
    "else:\n",
    "    print(\"Make Correct Choice\")"
   ]
  },
  {
   "cell_type": "code",
   "execution_count": null,
   "id": "6d902ebb",
   "metadata": {},
   "outputs": [],
   "source": []
  }
 ],
 "metadata": {
  "kernelspec": {
   "display_name": "Python 3 (ipykernel)",
   "language": "python",
   "name": "python3"
  },
  "language_info": {
   "codemirror_mode": {
    "name": "ipython",
    "version": 3
   },
   "file_extension": ".py",
   "mimetype": "text/x-python",
   "name": "python",
   "nbconvert_exporter": "python",
   "pygments_lexer": "ipython3",
   "version": "3.7.4"
  }
 },
 "nbformat": 4,
 "nbformat_minor": 5
}
